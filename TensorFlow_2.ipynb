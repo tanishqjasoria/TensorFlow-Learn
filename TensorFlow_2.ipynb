{
 "cells": [
  {
   "cell_type": "code",
   "execution_count": 2,
   "metadata": {},
   "outputs": [
    {
     "name": "stderr",
     "output_type": "stream",
     "text": [
      "/usr/local/lib/python3.5/dist-packages/h5py/__init__.py:36: FutureWarning: Conversion of the second argument of issubdtype from `float` to `np.floating` is deprecated. In future, it will be treated as `np.float64 == np.dtype(float).type`.\n",
      "  from ._conv import register_converters as _register_converters\n"
     ]
    }
   ],
   "source": [
    "import tensorflow as tf"
   ]
  },
  {
   "cell_type": "markdown",
   "metadata": {},
   "source": [
    "### Warning \n",
    "The TensorFlow library wasn't compiled to use SSE4.1 instructions, but these are available on your machine and could speed up CPU computations."
   ]
  },
  {
   "cell_type": "code",
   "execution_count": 3,
   "metadata": {},
   "outputs": [],
   "source": [
    "import os\n",
    "os.environ['TF_CPP_MIN_LOG_LEVEL'] = '2'\n",
    "import tensorflow as tf"
   ]
  },
  {
   "cell_type": "markdown",
   "metadata": {},
   "source": [
    "#### No more warning!"
   ]
  },
  {
   "cell_type": "markdown",
   "metadata": {},
   "source": [
    "## Working with TensorBoard"
   ]
  },
  {
   "cell_type": "code",
   "execution_count": 4,
   "metadata": {},
   "outputs": [],
   "source": [
    "a = tf.constant(2)\n",
    "b = tf.constant(3)\n",
    "x = tf.add(a,b)\n",
    "\n",
    "#Create the summary writer after graph definition and efore running your session\n",
    "writer = tf.summary.FileWriter('./graphs', tf.get_default_graph())\n",
    "sess = tf.Session()\n",
    "#writer = tf.summary.FileWriter('./graphs', sess.graph)\n",
    "\n",
    "writer.close()"
   ]
  },
  {
   "cell_type": "markdown",
   "metadata": {},
   "source": [
    "## View data from TensorBoard\n",
    "\n",
    "Go to terminal and run,   \n",
    "\n",
    "$ tensorboard --logdir=\"./graphs\" --port 6006 \n",
    "\n",
    "Then open \"http://localhost:6006/\" in your browser."
   ]
  },
  {
   "cell_type": "markdown",
   "metadata": {},
   "source": [
    "Now you would want to change the name of constants apperaring in the graphs.\n"
   ]
  },
  {
   "cell_type": "code",
   "execution_count": 6,
   "metadata": {},
   "outputs": [
    {
     "name": "stdout",
     "output_type": "stream",
     "text": [
      "5\n"
     ]
    }
   ],
   "source": [
    "a = tf.constant(2,name='a')\n",
    "b = tf.constant(3,name='b')\n",
    "x = tf.add(a,b,name='Add')\n",
    "\n",
    "#Create the summary writer after graph definition and efore running your session\n",
    "writer = tf.summary.FileWriter('./graphs', tf.get_default_graph())\n",
    "sess = tf.Session()\n",
    "#writer = tf.summary.FileWriter('./graphs', sess.graph)\n",
    "print(sess.run(x))\n",
    "writer.close()\n"
   ]
  },
  {
   "cell_type": "markdown",
   "metadata": {},
   "source": [
    "###  TensorBoard is a great tool and it can do much more than just displaying the graphs!"
   ]
  },
  {
   "cell_type": "markdown",
   "metadata": {},
   "source": [
    "## Constant\n",
    "<pre>\n",
    "tf.constant(  \n",
    "    value,  \n",
    "    dtype=None,  \n",
    "    shape=None,  \n",
    "    name='Const',  \n",
    "    verify_shape=False  \n",
    ")\n",
    "</pre>\n",
    "Note - Brodcasting similar to numpy."
   ]
  },
  {
   "cell_type": "markdown",
   "metadata": {},
   "source": [
    "### tf.zeros\n",
    "<pre>\n",
    "tf.zeros(\n",
    "    shape,\n",
    "    dtype=float32,\n",
    "    name=None\n",
    ")\n",
    "\n",
    "tf.zeros_like(\n",
    "    input_tensor,\n",
    "    dtype=None,\n",
    "    name=None,\n",
    "    optimize=True\n",
    ")\n",
    "</pre>"
   ]
  },
  {
   "cell_type": "code",
   "execution_count": 3,
   "metadata": {},
   "outputs": [
    {
     "name": "stdout",
     "output_type": "stream",
     "text": [
      "[[0 0 0]\n",
      " [0 0 0]]\n"
     ]
    }
   ],
   "source": [
    "z = tf.zeros([2,3],tf.int32)\n",
    "y = tf.zeros_like([[0,1],[2,3],[4,5]])\n",
    "sess = tf.Session()\n",
    "print(sess.run(z))"
   ]
  },
  {
   "cell_type": "code",
   "execution_count": 4,
   "metadata": {},
   "outputs": [
    {
     "name": "stdout",
     "output_type": "stream",
     "text": [
      "[[0 0]\n",
      " [0 0]\n",
      " [0 0]]\n"
     ]
    }
   ],
   "source": [
    "print(sess.run(y))"
   ]
  },
  {
   "cell_type": "markdown",
   "metadata": {},
   "source": [
    "## tensors filled with specific values\n",
    "<pre>\n",
    "tf.fill(\n",
    "    dims,\n",
    "    vaue,\n",
    "    name=None\n",
    ")\n",
    "</pre>"
   ]
  },
  {
   "cell_type": "code",
   "execution_count": 5,
   "metadata": {},
   "outputs": [
    {
     "name": "stdout",
     "output_type": "stream",
     "text": [
      "[[8 8 8]\n",
      " [8 8 8]]\n"
     ]
    }
   ],
   "source": [
    "z = tf.fill([2,3], 8)\n",
    "sess = tf.Session()\n",
    "print(sess.run(z))\n"
   ]
  },
  {
   "cell_type": "code",
   "execution_count": 6,
   "metadata": {},
   "outputs": [
    {
     "name": "stdout",
     "output_type": "stream",
     "text": [
      "[10. 11. 12. 13.]\n"
     ]
    }
   ],
   "source": [
    "z = tf.lin_space(10.0,13.0,4)\n",
    "sess = tf.Session()\n",
    "print(sess.run(z))"
   ]
  },
  {
   "cell_type": "code",
   "execution_count": 7,
   "metadata": {},
   "outputs": [
    {
     "name": "stdout",
     "output_type": "stream",
     "text": [
      "[ 3  6  9 12 15]\n"
     ]
    }
   ],
   "source": [
    "z = tf.range(3,18,3)\n",
    "sess = tf.Session()\n",
    "print(sess.run(z))\n"
   ]
  },
  {
   "cell_type": "markdown",
   "metadata": {},
   "source": [
    "## Variable\n"
   ]
  },
  {
   "cell_type": "code",
   "execution_count": 10,
   "metadata": {},
   "outputs": [],
   "source": [
    "s = tf.Variable(2, name='Scalar')\n",
    "m = tf.Variable([[0,1],[2,3]], name=\"matrix\")\n",
    "W = tf.Variable(tf.zeros([784,10]))\n",
    "\n",
    "s = tf.get_variable(\"scalar\", initializer = tf.constant(2))\n",
    "m = tf.get_variable(\"matrix\", initializer = tf.constant([[0,1],[2,3]]))\n",
    "W = tf.get_variable(\"big_matrix\", shape=(784,10), initializer = tf.zeros_initializer() )"
   ]
  },
  {
   "cell_type": "markdown",
   "metadata": {},
   "source": [
    "tf.Variable holds several operations\n",
    "\n",
    "x = tf.Variable(...)\n",
    "\n",
    "x.initializer  \n",
    "x.value()  \n",
    "x.assign(...)  \n",
    "x.assign_add(...)  "
   ]
  },
  {
   "cell_type": "code",
   "execution_count": 11,
   "metadata": {},
   "outputs": [],
   "source": [
    "sess = tf.Session()"
   ]
  },
  {
   "cell_type": "code",
   "execution_count": 13,
   "metadata": {},
   "outputs": [],
   "source": [
    "sess.run(tf.global_variables_initializer())"
   ]
  },
  {
   "cell_type": "code",
   "execution_count": 15,
   "metadata": {},
   "outputs": [],
   "source": [
    "sess.run(tf.variables_initializer([s,m]))"
   ]
  },
  {
   "cell_type": "code",
   "execution_count": 18,
   "metadata": {},
   "outputs": [],
   "source": [
    "sess.run(W.initializer)"
   ]
  },
  {
   "cell_type": "markdown",
   "metadata": {},
   "source": [
    "### Eval a Variable"
   ]
  },
  {
   "cell_type": "code",
   "execution_count": 24,
   "metadata": {},
   "outputs": [],
   "source": [
    "W = tf.Variable(tf.truncated_normal([700,10]))\n",
    "sess = tf.Session()\n",
    "sess.run(W.initializer)"
   ]
  },
  {
   "cell_type": "code",
   "execution_count": 20,
   "metadata": {},
   "outputs": [
    {
     "name": "stdout",
     "output_type": "stream",
     "text": [
      "<tf.Variable 'Variable_1:0' shape=(700, 10) dtype=float32_ref>\n"
     ]
    }
   ],
   "source": [
    "print(W)"
   ]
  },
  {
   "cell_type": "markdown",
   "metadata": {},
   "source": [
    "This happened because W was not evaluated yet!"
   ]
  },
  {
   "cell_type": "code",
   "execution_count": 22,
   "metadata": {},
   "outputs": [
    {
     "name": "stdout",
     "output_type": "stream",
     "text": [
      "[[-1.1093893  -0.30412817  0.824852   ... -0.0437335   0.7975733\n",
      "  -0.07785689]\n",
      " [ 0.7352675  -0.18652076 -0.14546765 ... -0.7324368  -0.5331444\n",
      "  -0.8586437 ]\n",
      " [ 1.3464795  -0.5632655  -0.32321572 ... -0.46838337  1.3938724\n",
      "   0.5321887 ]\n",
      " ...\n",
      " [ 1.2213119  -1.803846   -0.31562352 ...  1.5588663   0.7861825\n",
      "  -0.440125  ]\n",
      " [-1.6336573   0.4487575  -1.7969482  ... -0.89884716  0.6193026\n",
      "  -1.5959371 ]\n",
      " [-0.26348925 -0.6355188  -1.8195316  ... -1.5449952  -1.0452654\n",
      "   1.3970804 ]]\n"
     ]
    }
   ],
   "source": [
    "print(sess.run(W))"
   ]
  },
  {
   "cell_type": "code",
   "execution_count": 26,
   "metadata": {},
   "outputs": [
    {
     "name": "stdout",
     "output_type": "stream",
     "text": [
      "[[ 0.24545474  1.2565613   1.448958   ...  0.37805694 -0.60736656\n",
      "   1.2411898 ]\n",
      " [-0.29976568 -1.4101586   0.8804551  ... -1.266066    0.34819674\n",
      "   0.1769116 ]\n",
      " [-0.8387134   0.03140235 -0.6028527  ...  1.9922042   0.9551834\n",
      "   0.00566205]\n",
      " ...\n",
      " [-1.2300093  -0.78130317  0.83096194 ... -0.5787096   1.5710092\n",
      "  -0.9393699 ]\n",
      " [-1.7099409   1.0040011   0.6566094  ... -0.3283177  -0.5700917\n",
      "   0.71793896]\n",
      " [-0.723771    0.2959756  -0.3710465  ... -0.9553054  -1.2635236\n",
      "   0.28602013]]\n"
     ]
    }
   ],
   "source": [
    "print(W.eval(session=sess))"
   ]
  },
  {
   "cell_type": "code",
   "execution_count": 29,
   "metadata": {},
   "outputs": [
    {
     "name": "stdout",
     "output_type": "stream",
     "text": [
      "10\n"
     ]
    }
   ],
   "source": [
    "W = tf.Variable(10)\n",
    "W.assign(100)\n",
    "sess = tf.Session()\n",
    "sess.run(W.initializer)\n",
    "print(sess.run(W))"
   ]
  },
  {
   "cell_type": "markdown",
   "metadata": {},
   "source": [
    "This happens because W.assign() creates a assigm op.  \n",
    "It needs to be excecuted first to get the final value of W"
   ]
  },
  {
   "cell_type": "code",
   "execution_count": 30,
   "metadata": {},
   "outputs": [
    {
     "name": "stdout",
     "output_type": "stream",
     "text": [
      "100\n"
     ]
    }
   ],
   "source": [
    "W = tf.Variable(10)\n",
    "assign_op = W.assign(100)\n",
    "sess = tf.Session()\n",
    "sess.run(W.initializer)\n",
    "sess.run(assign_op)\n",
    "print(sess.run(W))"
   ]
  },
  {
   "cell_type": "code",
   "execution_count": null,
   "metadata": {},
   "outputs": [],
   "source": []
  }
 ],
 "metadata": {
  "kernelspec": {
   "display_name": "Python 3",
   "language": "python",
   "name": "python3"
  },
  "language_info": {
   "codemirror_mode": {
    "name": "ipython",
    "version": 3
   },
   "file_extension": ".py",
   "mimetype": "text/x-python",
   "name": "python",
   "nbconvert_exporter": "python",
   "pygments_lexer": "ipython3",
   "version": "3.5.2"
  }
 },
 "nbformat": 4,
 "nbformat_minor": 2
}
