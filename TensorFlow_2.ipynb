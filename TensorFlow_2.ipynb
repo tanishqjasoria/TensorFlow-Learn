{
 "cells": [
  {
   "cell_type": "code",
   "execution_count": 2,
   "metadata": {},
   "outputs": [],
   "source": [
    "import tensorflow as tf"
   ]
  },
  {
   "cell_type": "markdown",
   "metadata": {},
   "source": [
    "### Warning \n",
    "The TensorFlow library wasn't compiled to use SSE4.1 instructions, but these are available on your machine and could speed up CPU computations."
   ]
  },
  {
   "cell_type": "code",
   "execution_count": 3,
   "metadata": {},
   "outputs": [],
   "source": [
    "import os\n",
    "os.environ['TF_CPP_MIN_LOG_LEVEL'] = '2'\n",
    "import tensorflow as tf"
   ]
  },
  {
   "cell_type": "markdown",
   "metadata": {},
   "source": [
    "#### No more warning!"
   ]
  },
  {
   "cell_type": "markdown",
   "metadata": {},
   "source": [
    "## Working with TensorBoard"
   ]
  },
  {
   "cell_type": "code",
   "execution_count": 4,
   "metadata": {},
   "outputs": [],
   "source": [
    "a = tf.constant(2)\n",
    "b = tf.constant(3)\n",
    "x = tf.add(a,b)\n",
    "\n",
    "#Create the summary writer after graph definition and efore running your session\n",
    "writer = tf.summary.FileWriter('./graphs', tf.get_default_graph())\n",
    "sess = tf.Session()\n",
    "#writer = tf.summary.FileWriter('./graphs', sess.graph)\n",
    "\n",
    "writer.close()"
   ]
  },
  {
   "cell_type": "markdown",
   "metadata": {},
   "source": [
    "## View data from TensorBoard\n",
    "\n",
    "Go to terminal and run,   \n",
    "\n",
    "$ tensorboard --logdir=\"./graphs\" --port 6006 \n",
    "\n",
    "Then open \"http://localhost:6006/\" in your browser."
   ]
  },
  {
   "cell_type": "markdown",
   "metadata": {},
   "source": [
    "Now you would want to change the name of constants apperaring in the graphs.\n"
   ]
  },
  {
   "cell_type": "code",
   "execution_count": 6,
   "metadata": {},
   "outputs": [
    {
     "name": "stdout",
     "output_type": "stream",
     "text": [
      "5\n"
     ]
    }
   ],
   "source": [
    "a = tf.constant(2,name='a')\n",
    "b = tf.constant(3,name='b')\n",
    "x = tf.add(a,b,name='Add')\n",
    "\n",
    "#Create the summary writer after graph definition and efore running your session\n",
    "writer = tf.summary.FileWriter('./graphs', tf.get_default_graph())\n",
    "sess = tf.Session()\n",
    "#writer = tf.summary.FileWriter('./graphs', sess.graph)\n",
    "print(sess.run(x))\n",
    "writer.close()\n"
   ]
  },
  {
   "cell_type": "markdown",
   "metadata": {},
   "source": [
    "###  TensorBoard is a great tool and it can do much more than just displaying the graphs!"
   ]
  },
  {
   "cell_type": "markdown",
   "metadata": {},
   "source": [
    "## Constant\n",
    "<pre>\n",
    "tf.constant(  \n",
    "    value,  \n",
    "    dtype=None,  \n",
    "    shape=None,  \n",
    "    name='Const',  \n",
    "    verify_shape=False  \n",
    ")\n",
    "</pre>\n",
    "Note - Brodcasting similar to numpy."
   ]
  },
  {
   "cell_type": "markdown",
   "metadata": {},
   "source": [
    "### tf.zeros\n",
    "<pre>\n",
    "tf.zeros(\n",
    "    shape,\n",
    "    dtype=float32,\n",
    "    name=None\n",
    ")\n",
    "</pre>"
   ]
  },
  {
   "cell_type": "code",
   "execution_count": 9,
   "metadata": {},
   "outputs": [
    {
     "name": "stdout",
     "output_type": "stream",
     "text": [
      "[[0 0 0]\n",
      " [0 0 0]]\n"
     ]
    }
   ],
   "source": [
    "z = tf.zeros([2,3],tf.int32)\n",
    "sess = tf.Session()\n",
    "print(sess.run(z))"
   ]
  },
  {
   "cell_type": "code",
   "execution_count": null,
   "metadata": {},
   "outputs": [],
   "source": []
  }
 ],
 "metadata": {
  "kernelspec": {
   "display_name": "Python 3",
   "language": "python",
   "name": "python3"
  },
  "language_info": {
   "codemirror_mode": {
    "name": "ipython",
    "version": 3
   },
   "file_extension": ".py",
   "mimetype": "text/x-python",
   "name": "python",
   "nbconvert_exporter": "python",
   "pygments_lexer": "ipython3",
   "version": "3.5.2"
  }
 },
 "nbformat": 4,
 "nbformat_minor": 2
}
